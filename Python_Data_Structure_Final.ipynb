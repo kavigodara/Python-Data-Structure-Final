{
  "nbformat": 4,
  "nbformat_minor": 0,
  "metadata": {
    "colab": {
      "provenance": [],
      "toc_visible": true
    },
    "kernelspec": {
      "name": "python3",
      "display_name": "Python 3"
    },
    "language_info": {
      "name": "python"
    }
  },
  "cells": [
    {
      "cell_type": "markdown",
      "source": [],
      "metadata": {
        "id": "TSKzU8wwjrml"
      }
    },
    {
      "cell_type": "markdown",
      "source": [
        "1. What are data structures and why are they important?\n",
        "\n",
        "  -> Data structures are fundamental to computer science, defining how data is organized, stored, and processed in a computer system. They provide a way to efficiently access, manage, and manipulate data, which is crucial for building efficient and effective software applications. Data structures are essential for performance, readability, and scalability of code, as well as how well it solves the problem at hand.\n",
        "\n",
        "2. Explain the difference between mutable and immutable data types with examples?\n",
        "  \n",
        "  -> Mutable data types can be modified after they're created, while immutable data types cannot. Mutable examples include lists, dictionaries, and sets, while immutable examples include strings and tuples.\n",
        "\n",
        "3. What are the main differences between lists and tuples in Python?\n",
        "\n",
        " -> Lists and tuples are both ordered sequences of items in Python, but they have key differences:\n",
        "\n",
        "Mutability:\n",
        "Lists are mutable, meaning their elements can be changed after creation (add, remove, or modify. Tuples are immutable, meaning their elements cannot be changed after creation.\n",
        "\n",
        "Syntax:\n",
        "Lists are defined using square brackets [], while tuples are defined using parentheses ().\n",
        "\n",
        "Use Cases:\n",
        "Lists are suitable for collections of items that may need to be modified, while tuples are suitable for collections of items that should remain fixed.\n",
        "\n",
        "Performance:\n",
        "Tuples are generally faster and more memory-efficient than lists due to their immutability.\n",
        "\n",
        "Methods:\n",
        "Lists have more built-in methods for modifying their contents (e.g., append, insert, remove), while tuples have fewer methods.\n",
        "\n",
        "Size:\n",
        "Lists can grow dynamically, while tuples have a fixed size.\n",
        "\n",
        "Error prevention:\n",
        "Tuples can help prevent accidental modification of data, whereas lists are prone to changes.\n",
        "\n",
        "\n",
        "4. Describe how dictionaries store data.\n",
        "\n",
        " -> Dictionaries are used to store data values in key:value pairs. A dictionary is a collection which is ordered*, changeable and do not allow duplicates. As of Python version 3.7, dictionaries are ordered. In Python 3.6 and earlier, dictionaries are unordered.\n",
        "\n",
        "5. Why might you use a set instead of a list in Python?\n",
        "\n",
        " -> Sets and lists are both used for storing collections of items in Python, but they have key differences that make them suitable for different purposes. Sets are unordered collections of unique elements, while lists are ordered collections that can contain duplicate elements.\n",
        "\n",
        " 6.  What is a string in Python, and how is it different from a list?\n",
        "\n",
        "   -> A string is a sequence of characters between single or double quotes. A list is a sequence of items, where each item could be anything such as an integer, a float, a string, etc.\n",
        "\n",
        " 7. How do tuples ensure data integrity in Python?\n",
        "\n",
        "   ->Tuples in Python ensure data integrity through their immutability. Once a tuple is created, its elements cannot be changed, added, or removed. This characteristic makes tuples suitable for situations where data needs to remain constant throughout the program's execution, safeguarding it against accidental or unintended modifications. Immutability ensures that the data within a tuple remains consistent, preventing data corruption and maintaining its original state.\n",
        "\n",
        " 8. What is a hash table, and how does it relate to dictionaries in Python?\n",
        "\n",
        "  ->A hash table is a data structure that stores key-value pairs, where each key is unique and the values can be of any data type. It uses a hash function to compute an index (or position) in an array of buckets or slots, where the corresponding value is stored. This allows for efficient data retrieval, insertion, and deletion operations, typically with an average time complexity of O(1).\n",
        "  In Python, dictionaries are implemented using hash tables. When a key-value pair is added to a dictionary, Python calculates the hash value of the key using its built-in hash() function. This hash value is then used to determine the index in the underlying hash table where the value will be stored. When accessing a value using its key, Python again calculates the hash value of the key and uses it to quickly locate the corresponding value in the hash table.\n",
        "\n",
        "my_dict = {\"apple\": 1, \"banana\": 2, \"cherry\": 3}\n",
        "print(my_dict[\"banana\"]) # Output: 2\n",
        "\n",
        "\n",
        "9.  Can lists contain different data types in Python?\n",
        "\n",
        "  -> Yes, lists in Python can contain elements of different data types. A single list can hold a combination of integers, floats, strings, booleans, and even other lists, tuples, or dictionaries. This flexibility is a key feature of Python lists.\n",
        " my_list = [1, \"hello\", 3.14, True, [1, 2, 3]]\n",
        "print(my_list) # Output: [1, \"hello\", 3.14, True, [1, 2, 3]]\n",
        "\n",
        "10.  Explain why strings are immutable in Python.\n",
        "\n",
        " -> Strings are immutable in Python for reasons related to efficiency, safety, and design principles. Immutability means that once a string is created, its value cannot be changed. Any operation that appears to modify a string actually creates a new string object.\n",
        " Strings are commonly used as keys in dictionaries. If strings were mutable, their hash values could change after they are added to a dictionary, which would break the dictionary's internal data structure. Immutability ensures that string keys remain consistent and allows dictionaries to function correctly.\n",
        "\n",
        " 11. What advantages do dictionaries offer over lists for certain tasks?\n",
        "\n",
        "  -> They make code much easier to read if we need to generate key:value pairs. We can also do the same with a list of lists (where inner lists are pairs of \"keys\" and \"values\"), but this looks more complex and confusing.\n",
        "   We can look up a certain value in a dictionary very quickly.\n",
        "\n",
        "12. Describe a scenario where using a tuple would be preferable over a list.\n",
        "\n",
        " -> Tuples are immutable. Hence, they are primarily used to store data that doesn't change frequently. Any operation can store data in a tuple when you don't want it to change. Tuples are great to use if you want the data in your collection to be read-only, never to change, and always remain the same and constant.\n",
        "\n",
        "13. How do sets handle duplicate values in Python?\n",
        "\n",
        " -> In Python, sets are designed to store only unique elements. When attempting to add a duplicate value to a set, the set automatically discards the duplicate, ensuring that it contains only distinct elements. This behavior is fundamental to the nature of sets as unordered collections of unique items.\n",
        "my_set = {1, 2, 2, 3, 4, 4, 5}\n",
        "print(my_set)\n",
        "# Expected output: {1, 2, 3, 4, 5}\n",
        "\n",
        "14.  How does the “in” keyword work differently for lists and dictionaries?\n",
        "\n",
        " -> The in operation for the dictionary tests on keys. The key of the dictionary is a unique value as well as the set, and the execution time is about the same as for sets. On the other hand, dictionary values can be duplicated like a list.\n",
        "\n",
        " 15.Can you modify the elements of a tuple? Explain why or why not?\n",
        "\n",
        "  -> No, you cannot directly modify the elements of a tuple in Python after it's been created. Tuples are immutable, meaning their contents cannot be changed once they are defined. Trying to modify a tuple will result in a TypeError.\n",
        "Why tuples are immutable:\n",
        "\n",
        "Data Integrity:\n",
        "Immutability helps ensure that data is not accidentally changed, which is useful in scenarios where the data should be preserved.\n",
        "\n",
        "Hashing:\n",
        "Immutable objects can be used as keys in dictionaries, which requires them to be hashable. If a tuple's elements could be modified, it would no longer be hashable, making it unsuitable for use as a dictionary key.\n",
        "\n",
        "Performance:\n",
        "Immutability can sometimes lead to performance improvements because the object can be safely cached and reused without the risk of modification.\n",
        "\n",
        "How to \"modify\" a tuple (or create a modified version):\n",
        "While you can't directly modify a tuple, you can achieve the desired effect by creating a new tuple with the changes you want:\n",
        "\n",
        "1. Convert to a list:\n",
        "Convert the tuple to a mutable list, make changes to the list, and then convert the list back to a tuple.\n",
        "\n",
        "2. Slicing and concatenation:\n",
        "Create a new tuple by combining portions of the original tuple with new elements.\n",
        "\n",
        "3. Using NamedTuple:\n",
        "If you need a way to \"modify\" certain elements of a tuple-like object, consider using NamedTuple, which allows you to create a tuple with named fields and a _replace method for creating modified versions\n",
        "\n",
        "my_tuple = (1, 2, 3)\n",
        "\n",
        "# Trying to modify the tuple directly will raise a TypeError\n",
        "# my_tuple[0] = 4  # This will raise an error\n",
        "\n",
        "# Create a new tuple with a modified element\n",
        "modified_tuple = my_tuple[:1] + (4,) + my_tuple[2:]\n",
        "print(modified_tuple)  # Output: (4, 2, 3)\n",
        "\n",
        "16. What is a nested dictionary, and give an example of its use case?\n",
        "\n",
        "  -> A nested dictionary in Python is a dictionary where the values are themselves dictionaries. This allows for the creation of a hierarchical structure where data can be organized into multiple levels. A common use case for nested dictionaries is representing complex, multi-layered data, such as employee information with nested address and contact details.\n",
        "\n",
        "Here's an example:\n",
        "employee = {\n",
        "    \"name\": \"Alice Smith\",\n",
        "    \"job_title\": \"Software Engineer\",\n",
        "    \"address\": {\n",
        "        \"street\": \"123 Main St\",\n",
        "        \"city\": \"Anytown\",\n",
        "        \"state\": \"CA\",\n",
        "        \"zip\": \"91234\"\n",
        "    },\n",
        "    \"contact\": {\n",
        "        \"phone\": \"555-123-4567\",\n",
        "        \"email\": \"alice.smith@example.com\"\n",
        "    }\n",
        "}\n",
        "\n",
        "17. Describe the time complexity of accessing elements in a dictionary?\n",
        "\n",
        " -> Accessing an element in a dictionary using its key typically has a time complexity of O(1) on average, meaning it takes constant time, regardless of the dictionary's size. However, in the worst-case scenario, it can degrade to O(n), where n is the number of key-value pairs, if there are many hash collisions.\n",
        "\n",
        "18. In what situations are lists preferred over dictionaries?\n",
        "\n",
        "  -> For quick data look-ups, configurations, or caches, favor dictionaries. For ordered collections and sequence operations, such as maintaining a stack or queue, lists are more suitable.\n",
        "\n",
        "19. Why are dictionaries considered unordered, and how does that affect data retrieval?\n",
        "\n",
        "  -> A dictionary is termed an unordered collection of objects because dictionaries do not maintain any inherent order of the items based on when they were added. In older versions of Python (before 3.7), dictionaries did not preserve insertion order at all.\n",
        "\n",
        "20. Explain the difference between a list and a dictionary in terms of data retrieval.\n",
        "\n",
        "  -> In terms of data retrieval, a dictionary excels at quickly accessing values using unique keys, while a list retrieves values based on their position (index) in a sequence. Lists require searching through elements, while dictionaries use hashing for near-instantaneous lookup, making them significantly faster for accessing data by a specific identifier.\n",
        "\n",
        "Lists:\n",
        "Retrieval: Accessed by index (position), starting from 0. To get a specific element, you need to know its index, and the list might need to be searched sequentially until the element is found.\n",
        "Time Complexity: Finding an element in a list can be slow, particularly for large lists, as it might involve searching through many elements.\n",
        "Example: my_list[2] retrieves the element at index 2.\n",
        "\n",
        "Dictionaries:\n",
        "Retrieval: Accessed by unique keys. Values are associated with keys, and you can quickly retrieve a value by providing its corresponding key.\n",
        "\n",
        "Time Complexity: Dictionaries use hashing to map keys to values, enabling very fast lookups (typically constant time).\n",
        "Example: my_dictionary[\"name\"] retrieves the value associated with the key \"name\".\n",
        "\n",
        "\n",
        "\n"
      ],
      "metadata": {
        "id": "ICXCs530juE2"
      }
    },
    {
      "cell_type": "markdown",
      "source": [
        "# New section"
      ],
      "metadata": {
        "id": "y25t0-78-6bd"
      }
    },
    {
      "cell_type": "markdown",
      "source": [
        "PRACTICAL QUESTIONS"
      ],
      "metadata": {
        "id": "7f7uDaqd140i"
      }
    },
    {
      "cell_type": "code",
      "source": [
        "1. Write a code to create a string with your name and print it.\n",
        "\n",
        "Print Your Own Name Using printf()\n",
        "The simplest way to print something is to use the printf() function. You can provide your name in the form of string to printf() function and it will print it on the output screen."
      ],
      "metadata": {
        "id": "PAXD4yJ_2OMD"
      },
      "execution_count": null,
      "outputs": []
    },
    {
      "cell_type": "code",
      "source": [
        "2. Write a code to find the length of the string \"Hello World\"\n",
        "\n",
        "string = \"hello world\"\n",
        "length = len(string)\n",
        "print(length)  # Output: 11"
      ],
      "metadata": {
        "id": "4mMkJNZa2yvq"
      },
      "execution_count": null,
      "outputs": []
    },
    {
      "cell_type": "code",
      "source": [
        "3. Write a code to slice the first 3 characters from the string \"Python Programming\".\n",
        "\n",
        "string = \"Python Programming\"\n",
        "sliced_string = string[0:3]\n",
        "print(sliced_string)\n",
        "\n",
        "This code will output:Pyt\n"
      ],
      "metadata": {
        "id": "d59o9rf82_h7"
      },
      "execution_count": null,
      "outputs": []
    },
    {
      "cell_type": "code",
      "source": [
        "4. Write a code to convert the string \"hello\" to uppercase.\n",
        "\n",
        "string = \"hello\"\n",
        "uppercase_string = string.upper()\n",
        "print(uppercase_string) # Output: HELLO\n",
        "\n",
        "The .upper() method is used to convert a string to uppercase. It returns a new string with all characters converted to uppercase, leaving the original string unchanged."
      ],
      "metadata": {
        "id": "ynulRZZK2-Mj"
      },
      "execution_count": null,
      "outputs": []
    },
    {
      "cell_type": "code",
      "source": [
        "5. Write a code to replace the word \"apple\" with \"orange\" in the string \"I like apple\".\n",
        "\n",
        "text = \"I like apple\"\n",
        "new_text = text.replace(\"apple\", \"orange\")\n",
        "print(new_text)\n",
        "\n",
        "This code snippet uses the replace() method, which is built-in to Python strings, to replace the word \"apple\" with \"orange\" in the string. The replace() method takes two arguments: the string to be replaced and the string to replace it with. In this case, it replaces \"apple\" with \"orange\". The print() function then displays the modified string, which will be \"I like orange\".\n"
      ],
      "metadata": {
        "id": "p9jUELkw4B98"
      },
      "execution_count": null,
      "outputs": []
    },
    {
      "cell_type": "code",
      "source": [
        "6. Write a code to create a list with numbers 1 to 5 and print it.\n",
        "\n",
        "numbers = [1, 2, 3, 4, 5]\n",
        "print(\"Basic list:\", numbers)"
      ],
      "metadata": {
        "id": "8dziEozn4k98"
      },
      "execution_count": null,
      "outputs": []
    },
    {
      "cell_type": "code",
      "source": [
        "7. Write a code to append the number 10 to the list [1, 2, 3, 4]\n",
        "\n",
        "my_list = [1, 2, 3, 4]\n",
        "my_list.append(10)\n",
        "print(my_list)"
      ],
      "metadata": {
        "id": "qT-hw0r15oQW"
      },
      "execution_count": null,
      "outputs": []
    },
    {
      "cell_type": "code",
      "source": [
        "8. Write a code to remove the number 3 from the list [1, 2, 3, 4, 5]\n",
        "\n",
        "my_list = [1, 2, 3, 4, 5]\n",
        "my_list.remove(3)\n",
        "print(my_list)  # Output: [1, 2, 4, 5]"
      ],
      "metadata": {
        "id": "mxXPYTGF5-Ke"
      },
      "execution_count": null,
      "outputs": []
    },
    {
      "cell_type": "code",
      "source": [
        "9. Write a code to access the second element in the list ['a', 'b', 'c', 'd']\n",
        "\n",
        "my_list = ['a', 'b', 'c', 'd']\n",
        "second_element = my_list[1]\n",
        "print(second_element)"
      ],
      "metadata": {
        "id": "oxLw8cHY6aH8"
      },
      "execution_count": null,
      "outputs": []
    },
    {
      "cell_type": "code",
      "source": [
        "10. P Write a code to reverse the list [10, 20, 30, 40, 50].\n",
        "\n",
        "list1 = [10, 20, 30, 40, 50]\n",
        "list1.reverse()\n",
        "print(list1)\n",
        "\n",
        "Output:\n",
        "[50, 40, 30, 20, 10]"
      ],
      "metadata": {
        "id": "JgfbTjDc6kmT"
      },
      "execution_count": null,
      "outputs": []
    },
    {
      "cell_type": "code",
      "source": [
        "11.Write a code to create a tuple with the elements 100, 200, 300 and print it.\n",
        "\n",
        "# Create a tuple with elements 100, 200, and 300\n",
        "my_tuple = (100, 200, 300)\n",
        "\n",
        "# Print the tuple\n",
        "print(my_tuple)"
      ],
      "metadata": {
        "id": "SvKXhigC6_0D"
      },
      "execution_count": null,
      "outputs": []
    },
    {
      "cell_type": "code",
      "source": [
        "12. Write a code to access the second-to-last element of the tuple ('red', 'green', 'blue', 'yellow').\n",
        "\n",
        "colors = ('red', 'green', 'blue', 'yellow')\n",
        "second_to_last = colors[-2]\n",
        "print(second_to_last)"
      ],
      "metadata": {
        "id": "-cijsCZT7NHV"
      },
      "execution_count": null,
      "outputs": []
    },
    {
      "cell_type": "code",
      "source": [
        "13. Write a code to find the minimum number in the tuple (10, 20, 5, 15)\n",
        "\n",
        "numbers = (10, 20, 5, 15)\n",
        "minimum_number = min(numbers)\n",
        "print(minimum_number)\n",
        "\n",
        "The min() function is used to find the smallest element within the tuple numbers. The result is then stored in the variable minimum_number and printed to the console. The output of this code will be 5."
      ],
      "metadata": {
        "id": "7C9DZbfq7Va7"
      },
      "execution_count": null,
      "outputs": []
    },
    {
      "cell_type": "code",
      "source": [
        "14.  Write a code to find the index of the element \"cat\" in the tuple ('dog', 'cat', 'rabbit')\n",
        "\n",
        "my_tuple = ('dog', 'cat', 'rabbit')\n",
        "index_of_cat = my_tuple.index('cat')\n",
        "print(index_of_cat)"
      ],
      "metadata": {
        "id": "3H_qER_L7kdN"
      },
      "execution_count": null,
      "outputs": []
    },
    {
      "cell_type": "code",
      "source": [
        "15.  Write a code to create a tuple containing three different fruits and check if \"kiwi\" is in it\n",
        "\n",
        "# Create a tuple of three different fruits\n",
        "fruits = (\"apple\", \"banana\", \"orange\")\n",
        "\n",
        "# Check if \"kiwi\" is in the tuple\n",
        "if \"kiwi\" in fruits:\n",
        "    print(\"Yes, kiwi is in the tuple\")\n",
        "else:\n",
        "    print(\"No, kiwi is not in the tuple\")"
      ],
      "metadata": {
        "id": "dLiLn7nD7y1s"
      },
      "execution_count": null,
      "outputs": []
    },
    {
      "cell_type": "code",
      "source": [
        "16.  Write a code to create a set with the elements 'a', 'b', 'c' and print it.\n",
        "\n",
        "my_set = {'a', 'b', 'c'}\n",
        "print(my_set)"
      ],
      "metadata": {
        "id": "H8lbKi2F8AeE"
      },
      "execution_count": null,
      "outputs": []
    },
    {
      "cell_type": "code",
      "source": [
        "17.  Write a code to clear all elements from the set {1, 2, 3, 4, 5}.\n",
        "\n",
        "my_set = {1, 2, 3, 4, 5}\n",
        "my_set.clear()\n",
        "print(my_set)"
      ],
      "metadata": {
        "id": "Jj3yw-708MHz"
      },
      "execution_count": null,
      "outputs": []
    },
    {
      "cell_type": "code",
      "source": [
        "18.  Write a code to remove the element 4 from the set {1, 2, 3, 4}\n",
        "\n",
        "my_set = {1, 2, 3, 4}\n",
        "my_set.remove(4)\n",
        "print(my_set)"
      ],
      "metadata": {
        "id": "9kMzGwj38U6r"
      },
      "execution_count": null,
      "outputs": []
    },
    {
      "cell_type": "code",
      "source": [
        "19.  Write a code to find the union of two sets {1, 2, 3} and {3, 4, 5}.\n",
        "\n",
        "set1 = {1, 2, 3}\n",
        "set2 = {3, 4, 5}\n",
        "\n",
        "union_set = set1 | set2\n",
        "\n",
        "print(union_set)\n",
        "# Expected Output: {1, 2, 3, 4, 5}"
      ],
      "metadata": {
        "id": "m8eITOeK8ce0"
      },
      "execution_count": null,
      "outputs": []
    },
    {
      "cell_type": "code",
      "source": [
        "20. Write a code to find the intersection of two sets {1, 2, 3} and {2, 3, 4}.\n",
        "\n",
        "def intersection(set1, set2):\n",
        "    \"\"\"\n",
        "    Finds the intersection of two sets.\n",
        "\n",
        "    Args:\n",
        "        set1: The first set.\n",
        "        set2: The second set.\n",
        "\n",
        "    Returns:\n",
        "        A new set containing elements common to both set1 and set2.\n",
        "    \"\"\"\n",
        "    return set1.intersection(set2)\n",
        "\n",
        "# Example usage:\n",
        "set1 = {1, 2, 3}\n",
        "set2 = {2, 3, 4}\n",
        "intersection_set = intersection(set1, set2)\n",
        "print(intersection_set)  # Output: {2, 3}"
      ],
      "metadata": {
        "id": "Dj7m1PeH8s1c"
      },
      "execution_count": null,
      "outputs": []
    },
    {
      "cell_type": "code",
      "source": [
        "21. Write a code to create a dictionary with the keys \"name\", \"age\", and \"city\", and print it.\n",
        "\n",
        "my_dict = {\n",
        "    \"name\": \"John Doe\",\n",
        "    \"age\": 30,\n",
        "    \"city\": \"New York\"\n",
        "}\n",
        "\n",
        "print(my_dict)"
      ],
      "metadata": {
        "id": "s4no5_nU80_N"
      },
      "execution_count": null,
      "outputs": []
    },
    {
      "cell_type": "code",
      "source": [
        "22. Write a code to add a new key-value pair \"country\": \"USA\" to the dictionary {'name': 'John', 'age': 25}.\n",
        "\n",
        "my_dict = {'name': 'John', 'age': 25}\n",
        "my_dict['country'] = 'USA'\n",
        "print(my_dict)\n",
        "\n",
        "This code adds the new key-value pair \"country\": \"USA\" to the dictionary my_dict. The output will be:\n",
        "\n",
        "{'name': 'John', 'age': 25, 'country': 'USA'}\n"
      ],
      "metadata": {
        "id": "tRp28GPT9Dpc"
      },
      "execution_count": null,
      "outputs": []
    },
    {
      "cell_type": "code",
      "source": [
        "23. Write a code to access the value associated with the key \"name\" in the dictionary {'name': 'Alice', 'age': 30}.\n",
        "\n",
        "my_dict = {'name': 'Alice', 'age': 30}\n",
        "name_value = my_dict['name']\n",
        "print(name_value)"
      ],
      "metadata": {
        "id": "TLM3-GZFI7ZN"
      },
      "execution_count": null,
      "outputs": []
    },
    {
      "cell_type": "code",
      "source": [
        "24. Write a code to remove the key \"age\" from the dictionary {'name': 'Bob', 'age': 22, 'city': 'New York'}.\n",
        "\n",
        "my_dict = {'name': 'Bob', 'age': 22, 'city': 'New York'}\n",
        "del my_dict['age']\n",
        "print(my_dict)"
      ],
      "metadata": {
        "id": "jzSHcMdcJGSL"
      },
      "execution_count": null,
      "outputs": []
    },
    {
      "cell_type": "code",
      "source": [
        "25.  Write a code to check if the key \"city\" exists in the dictionary {'name': 'Alice', 'city': 'Paris'}.\n",
        "\n",
        "my_dict = {'name': 'Alice', 'city': 'Paris'}\n",
        "if 'city' in my_dict:\n",
        "    print(\"The key 'city' exists in the dictionary.\")\n",
        "else:\n",
        "    print(\"The key 'city' does not exist in the dictionary.\")"
      ],
      "metadata": {
        "id": "9ZKo32h9JbSz"
      },
      "execution_count": null,
      "outputs": []
    },
    {
      "cell_type": "code",
      "source": [
        "26. Write a code to create a list, a tuple, and a dictionary, and print them all.\n",
        "\n",
        "# Creating a list\n",
        "my_list = [1, 2, 3, \"apple\", \"banana\"]\n",
        "\n",
        "# Creating a tuple\n",
        "my_tuple = (4, 5, 6, \"grape\", \"orange\")\n",
        "\n",
        "# Creating a dictionary\n",
        "my_dictionary = {\"name\": \"John\", \"age\": 30, \"city\": \"New York\"}\n",
        "\n",
        "# Printing the list, tuple, and dictionary\n",
        "print(\"List:\", my_list)\n",
        "print(\"Tuple:\", my_tuple)\n",
        "print(\"Dictionary:\", my_dictionary)"
      ],
      "metadata": {
        "id": "aVkBXZPjJnC7"
      },
      "execution_count": null,
      "outputs": []
    },
    {
      "cell_type": "code",
      "source": [
        "27.  Write a code to create a list of 5 random numbers between 1 and 100, sort it in ascending order, and print the\n",
        "result.(replaced)\n",
        "\n",
        "import random\n",
        "\n",
        "# Create a list of 5 random numbers between 1 and 100\n",
        "random_numbers = [random.randint(1, 100) for _ in range(5)]\n",
        "\n",
        "# Sort the list in ascending order\n",
        "random_numbers.sort()\n",
        "\n",
        "# Print the sorted list\n",
        "print(random_numbers)"
      ],
      "metadata": {
        "id": "YB7WRgjiJ4L7"
      },
      "execution_count": null,
      "outputs": []
    },
    {
      "cell_type": "code",
      "source": [
        "28. Write a code to create a list of 5 random numbers between 1 and 100, sort it in ascending order, and print the\n",
        "result\n",
        "\n",
        "import random\n",
        "\n",
        "# Create a list of 5 random numbers between 1 and 100\n",
        "random_numbers = [random.randint(1, 100) for _ in range(5)]\n",
        "\n",
        "# Sort the list in ascending order\n",
        "random_numbers\n",
        "\n"
      ],
      "metadata": {
        "id": "9yLW0rw1Kp7T"
      },
      "execution_count": null,
      "outputs": []
    },
    {
      "cell_type": "code",
      "source": [
        "29.  Write a code to combine two dictionaries into one and print the result.\n",
        "\n",
        "# Sample dictionaries\n",
        "dict1 = {'a': 1, 'b': 2}\n",
        "dict2 = {'b': 3, 'c': 4}\n",
        "\n",
        "# Method 1: Using the update() method (modifies dict1)\n",
        "dict1.update(dict2)\n",
        "print(\"Merged dictionary (update method):\", dict1)\n",
        "\n",
        "# Method 2: Using the | operator (Python 3.9+)\n",
        "merged_dict = dict1 | dict2  # This creates a new dictionary\n",
        "print(\"Merged dictionary (| operator):\", merged_dict)\n",
        "\n",
        "# Method 3: Using the ** operator (unpacking)\n",
        "merged_dict = {**dict1, **dict2}\n",
        "print(\"Merged dictionary (** operator):\", merged_dict)\n",
        "\n",
        "# Method 4: Using the dict() constructor\n",
        "merged_dict = dict(dict1, **dict2)\n",
        "print(\"Merged dictionary (dict() constructor):\", merged_dict)"
      ],
      "metadata": {
        "id": "pjVykWjJKJ1r"
      },
      "execution_count": null,
      "outputs": []
    },
    {
      "cell_type": "code",
      "source": [
        "30. Write a code to convert a list of strings into a set.\n",
        "\n",
        "my_list = [\"apple\", \"banana\", \"cherry\", \"apple\", \"banana\"]\n",
        "my_set = set(my_list)\n",
        "print(my_set)\n",
        "#"
      ],
      "metadata": {
        "id": "4O_iCi_eKX4k"
      },
      "execution_count": null,
      "outputs": []
    }
  ]
}